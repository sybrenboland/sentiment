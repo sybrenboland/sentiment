{
 "cells": [
  {
   "cell_type": "code",
   "execution_count": 2,
   "metadata": {
    "collapsed": false
   },
   "outputs": [
    {
     "name": "stdout",
     "output_type": "stream",
     "text": [
      "24,340 terms in the food2vec vocabulary.\n"
     ]
    }
   ],
   "source": [
    "import os\n",
    "from gensim.models import Word2Vec\n",
    "\n",
    "intermediate_directory = os.path.join('..', 'intermediate')\n",
    "word2vec_filepath = os.path.join(intermediate_directory, 'word2vec_model_all')\n",
    "\n",
    "food2vec = Word2Vec.load(word2vec_filepath)\n",
    "food2vec.init_sims()\n",
    "\n",
    "print u'{:,} terms in the food2vec vocabulary.'.format(len(food2vec.wv.vocab))"
   ]
  },
  {
   "cell_type": "code",
   "execution_count": 34,
   "metadata": {
    "collapsed": true
   },
   "outputs": [],
   "source": [
    "def get_related_terms(token, topn=20):\n",
    "\n",
    "    for word, similarity in food2vec.most_similar(positive=[token], topn=topn):\n",
    "\n",
    "        print u'{:20} {}'.format(word, round(similarity, 3))"
   ]
  },
  {
   "cell_type": "code",
   "execution_count": 35,
   "metadata": {
    "collapsed": false
   },
   "outputs": [
    {
     "name": "stdout",
     "output_type": "stream",
     "text": [
      "mcdonalds            0.861\n",
      "mcdonald_'s          0.831\n",
      "wendy_'s             0.783\n",
      "denny_'s             0.744\n",
      "mcd_'s               0.712\n",
      "five_guy             0.71\n",
      "subway               0.706\n",
      "ihop                 0.705\n",
      "taco_bell            0.704\n",
      "quiznos              0.687\n",
      "bk                   0.678\n",
      "panda_express        0.665\n",
      "mcdonald             0.66\n",
      "applebee_'s          0.642\n",
      "wendys               0.642\n",
      "popeyes              0.638\n",
      "mcd                  0.638\n",
      "pizza_hut            0.636\n",
      "shake_shack          0.629\n",
      "panda                0.628\n"
     ]
    }
   ],
   "source": [
    "get_related_terms(u'burger_king')"
   ]
  },
  {
   "cell_type": "code",
   "execution_count": 36,
   "metadata": {
    "collapsed": false
   },
   "outputs": [
    {
     "name": "stdout",
     "output_type": "stream",
     "text": [
      "chop_salad           0.782\n",
      "caesar_salad         0.778\n",
      "beet_salad           0.752\n",
      "greek_salad          0.741\n",
      "garden_salad         0.741\n",
      "mixed_green          0.729\n",
      "ceasar_salad         0.726\n",
      "caprese_salad        0.716\n",
      "arugula_salad        0.715\n",
      "salad-               0.702\n",
      "kale_salad           0.697\n",
      "beet                 0.694\n",
      "dressing             0.691\n",
      "spring_mix           0.689\n",
      "romaine              0.68\n",
      "wedge_salad          0.674\n",
      "caesar               0.673\n",
      "arugula              0.668\n",
      "spinach              0.667\n",
      "cobb_salad           0.665\n"
     ]
    }
   ],
   "source": [
    "get_related_terms(u'salad')"
   ]
  },
  {
   "cell_type": "code",
   "execution_count": 33,
   "metadata": {
    "collapsed": true
   },
   "outputs": [],
   "source": [
    "def word_algebra(add=[], subtract=[], topn=1):\n",
    "\n",
    "    answers = food2vec.most_similar(positive=add, negative=subtract, topn=topn)\n",
    "    \n",
    "    for term, similarity in answers:\n",
    "        print term"
   ]
  },
  {
   "cell_type": "code",
   "execution_count": 39,
   "metadata": {
    "collapsed": false
   },
   "outputs": [
    {
     "name": "stdout",
     "output_type": "stream",
     "text": [
      "dinner\n"
     ]
    }
   ],
   "source": [
    "word_algebra(add=[u'lunch', u'evening'], subtract=[u'day'])"
   ]
  },
  {
   "cell_type": "code",
   "execution_count": 41,
   "metadata": {
    "collapsed": false
   },
   "outputs": [
    {
     "name": "stdout",
     "output_type": "stream",
     "text": [
      "noodle\n"
     ]
    }
   ],
   "source": [
    "word_algebra(add=[u'pasta', u'chinese'], subtract=[u'italian'])"
   ]
  },
  {
   "cell_type": "code",
   "execution_count": 42,
   "metadata": {
    "collapsed": false
   },
   "outputs": [
    {
     "name": "stdout",
     "output_type": "stream",
     "text": [
      "brunch\n"
     ]
    }
   ],
   "source": [
    "word_algebra(add=[u'breakfast', u'lunch'])"
   ]
  }
 ],
 "metadata": {
  "kernelspec": {
   "display_name": "Python 2",
   "language": "python",
   "name": "python2"
  },
  "language_info": {
   "codemirror_mode": {
    "name": "ipython",
    "version": 2
   },
   "file_extension": ".py",
   "mimetype": "text/x-python",
   "name": "python",
   "nbconvert_exporter": "python",
   "pygments_lexer": "ipython2",
   "version": "2.7.13"
  }
 },
 "nbformat": 4,
 "nbformat_minor": 2
}
