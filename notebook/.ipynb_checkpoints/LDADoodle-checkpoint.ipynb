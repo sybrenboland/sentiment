{
 "cells": [
  {
   "cell_type": "code",
   "execution_count": 1,
   "metadata": {
    "collapsed": true,
    "deletable": true,
    "editable": true
   },
   "outputs": [],
   "source": [
    "import os\n",
    "from gensim.models.ldamulticore import LdaMulticore\n",
    "\n",
    "intermediate_directory = os.path.join('..', 'intermediate')\n",
    "lda_model_filepath = os.path.join(intermediate_directory, 'lda_model_all')\n",
    "lda = LdaMulticore.load(lda_model_filepath)"
   ]
  },
  {
   "cell_type": "code",
   "execution_count": 2,
   "metadata": {
    "collapsed": true,
    "deletable": true,
    "editable": true
   },
   "outputs": [],
   "source": [
    "def explore_topic(topic_number, topn=50):\n",
    "        \n",
    "    print u'{:20} {}'.format(u'term', u'frequency') + u'\\n'\n",
    "\n",
    "    for term, frequency in lda.show_topic(topic_number, topn=50):\n",
    "        print u'{:20} {:.3f}'.format(term, round(frequency, 3))"
   ]
  },
  {
   "cell_type": "code",
   "execution_count": 5,
   "metadata": {
    "collapsed": false,
    "deletable": true,
    "editable": true
   },
   "outputs": [
    {
     "name": "stdout",
     "output_type": "stream",
     "text": [
      "term                 frequency\n",
      "\n",
      "indian               0.026\n",
      "chicken              0.024\n",
      "restaurant           0.014\n",
      "like                 0.013\n",
      "dish                 0.012\n",
      "naan                 0.010\n",
      "curry                0.009\n",
      "order                0.009\n",
      "try                  0.009\n",
      "butter               0.008\n",
      "spice                0.008\n",
      "rice                 0.008\n",
      "taste                0.007\n",
      "'s                   0.007\n",
      "'                    0.006\n",
      "eat                  0.006\n",
      "roti                 0.005\n",
      "serve                0.005\n",
      "time                 0.005\n",
      "think                0.004\n",
      "know                 0.004\n",
      "come                 0.004\n",
      "spicy                0.004\n",
      "thing                0.004\n",
      "review               0.004\n",
      "meal                 0.004\n",
      "want                 0.004\n",
      "samosa               0.003\n",
      "bit                  0.003\n",
      "look                 0.003\n",
      "way                  0.003\n",
      "little               0.003\n",
      "garlic_naan          0.003\n",
      "feel                 0.003\n",
      "flavour              0.003\n",
      "use                  0.002\n",
      "friend               0.002\n",
      "experience           0.002\n",
      "india                0.002\n",
      "oxtail               0.002\n",
      "chicken_tikka_masala 0.002\n",
      "biryani              0.002\n",
      "cook                 0.002\n",
      "authentic            0.002\n",
      "right                0.002\n",
      "people               0.002\n",
      "hot                  0.002\n",
      "visit                0.002\n",
      "leave                0.002\n",
      "nice                 0.002\n"
     ]
    }
   ],
   "source": [
    "explore_topic(topic_number=1)"
   ]
  },
  {
   "cell_type": "code",
   "execution_count": null,
   "metadata": {
    "collapsed": true,
    "deletable": true,
    "editable": true
   },
   "outputs": [],
   "source": []
  }
 ],
 "metadata": {
  "kernelspec": {
   "display_name": "Python 2",
   "language": "python",
   "name": "python2"
  },
  "language_info": {
   "codemirror_mode": {
    "name": "ipython",
    "version": 2
   },
   "file_extension": ".py",
   "mimetype": "text/x-python",
   "name": "python",
   "nbconvert_exporter": "python",
   "pygments_lexer": "ipython2",
   "version": "2.7.13"
  }
 },
 "nbformat": 4,
 "nbformat_minor": 2
}
